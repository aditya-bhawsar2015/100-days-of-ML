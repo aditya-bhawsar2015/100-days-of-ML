{
 "cells": [
  {
   "cell_type": "code",
   "execution_count": 1,
   "id": "85d88096-822e-42cf-ad46-ac3b2f8cee78",
   "metadata": {},
   "outputs": [],
   "source": [
    "import pandas as pd"
   ]
  },
  {
   "cell_type": "code",
   "execution_count": null,
   "id": "ece7ae57-e501-47fa-818a-79c3e8f1be1d",
   "metadata": {},
   "outputs": [],
   "source": [
    "pd.read_json('filename/url')       # directly put url link to load it"
   ]
  },
  {
   "cell_type": "code",
   "execution_count": null,
   "id": "cc511018-ee2c-4b11-bae7-0bfba797140a",
   "metadata": {},
   "outputs": [],
   "source": [
    "# for sql\n",
    "!pip install mysql.connector"
   ]
  },
  {
   "cell_type": "code",
   "execution_count": null,
   "id": "2fa504db-21d5-40a7-84e7-432c9fe32479",
   "metadata": {},
   "outputs": [],
   "source": [
    "import mysql.connector"
   ]
  }
 ],
 "metadata": {
  "kernelspec": {
   "display_name": "Python 3 (ipykernel)",
   "language": "python",
   "name": "python3"
  },
  "language_info": {
   "codemirror_mode": {
    "name": "ipython",
    "version": 3
   },
   "file_extension": ".py",
   "mimetype": "text/x-python",
   "name": "python",
   "nbconvert_exporter": "python",
   "pygments_lexer": "ipython3",
   "version": "3.12.7"
  }
 },
 "nbformat": 4,
 "nbformat_minor": 5
}
