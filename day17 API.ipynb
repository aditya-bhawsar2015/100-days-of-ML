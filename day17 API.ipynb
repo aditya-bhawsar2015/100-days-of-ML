{
 "cells": [
  {
   "cell_type": "markdown",
   "id": "89d914fb-ab34-46a7-acb4-c75c7b14bde5",
   "metadata": {},
   "source": [
    "When we hit a websie using API we get data in the form of JSON"
   ]
  },
  {
   "cell_type": "markdown",
   "id": "701f5067-08df-44a6-81bd-9f6b1cead925",
   "metadata": {},
   "source": []
  }
 ],
 "metadata": {
  "kernelspec": {
   "display_name": "Python 3 (ipykernel)",
   "language": "python",
   "name": "python3"
  },
  "language_info": {
   "codemirror_mode": {
    "name": "ipython",
    "version": 3
   },
   "file_extension": ".py",
   "mimetype": "text/x-python",
   "name": "python",
   "nbconvert_exporter": "python",
   "pygments_lexer": "ipython3",
   "version": "3.12.7"
  }
 },
 "nbformat": 4,
 "nbformat_minor": 5
}
