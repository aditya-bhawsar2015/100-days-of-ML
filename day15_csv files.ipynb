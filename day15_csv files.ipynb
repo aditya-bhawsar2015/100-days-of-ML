{
 "cells": [
  {
   "cell_type": "code",
   "execution_count": 1,
   "id": "38fc6601-6a20-48b1-8359-29eaf3498dd8",
   "metadata": {},
   "outputs": [],
   "source": [
    "import pandas as pd"
   ]
  },
  {
   "cell_type": "code",
   "execution_count": 2,
   "id": "4e1ffd6c-dbd3-4a5e-acaa-4a3103251470",
   "metadata": {},
   "outputs": [],
   "source": [
    "df = pd.read_csv('aug_train.csv')"
   ]
  },
  {
   "cell_type": "code",
   "execution_count": 3,
   "id": "d5c39579-d533-4126-88ad-1c7312ec5f7f",
   "metadata": {},
   "outputs": [
    {
     "data": {
      "text/html": [
       "<div>\n",
       "<style scoped>\n",
       "    .dataframe tbody tr th:only-of-type {\n",
       "        vertical-align: middle;\n",
       "    }\n",
       "\n",
       "    .dataframe tbody tr th {\n",
       "        vertical-align: top;\n",
       "    }\n",
       "\n",
       "    .dataframe thead th {\n",
       "        text-align: right;\n",
       "    }\n",
       "</style>\n",
       "<table border=\"1\" class=\"dataframe\">\n",
       "  <thead>\n",
       "    <tr style=\"text-align: right;\">\n",
       "      <th></th>\n",
       "      <th>enrollee_id</th>\n",
       "      <th>city</th>\n",
       "      <th>city_development_index</th>\n",
       "      <th>gender</th>\n",
       "      <th>relevent_experience</th>\n",
       "      <th>enrolled_university</th>\n",
       "      <th>education_level</th>\n",
       "      <th>major_discipline</th>\n",
       "      <th>experience</th>\n",
       "      <th>company_size</th>\n",
       "      <th>company_type</th>\n",
       "      <th>last_new_job</th>\n",
       "      <th>training_hours</th>\n",
       "      <th>target</th>\n",
       "    </tr>\n",
       "  </thead>\n",
       "  <tbody>\n",
       "    <tr>\n",
       "      <th>0</th>\n",
       "      <td>8949</td>\n",
       "      <td>city_103</td>\n",
       "      <td>0.920</td>\n",
       "      <td>Male</td>\n",
       "      <td>Has relevent experience</td>\n",
       "      <td>no_enrollment</td>\n",
       "      <td>Graduate</td>\n",
       "      <td>STEM</td>\n",
       "      <td>&gt;20</td>\n",
       "      <td>NaN</td>\n",
       "      <td>NaN</td>\n",
       "      <td>1</td>\n",
       "      <td>36</td>\n",
       "      <td>1.0</td>\n",
       "    </tr>\n",
       "    <tr>\n",
       "      <th>1</th>\n",
       "      <td>29725</td>\n",
       "      <td>city_40</td>\n",
       "      <td>0.776</td>\n",
       "      <td>Male</td>\n",
       "      <td>No relevent experience</td>\n",
       "      <td>no_enrollment</td>\n",
       "      <td>Graduate</td>\n",
       "      <td>STEM</td>\n",
       "      <td>15</td>\n",
       "      <td>50-99</td>\n",
       "      <td>Pvt Ltd</td>\n",
       "      <td>&gt;4</td>\n",
       "      <td>47</td>\n",
       "      <td>0.0</td>\n",
       "    </tr>\n",
       "    <tr>\n",
       "      <th>2</th>\n",
       "      <td>11561</td>\n",
       "      <td>city_21</td>\n",
       "      <td>0.624</td>\n",
       "      <td>NaN</td>\n",
       "      <td>No relevent experience</td>\n",
       "      <td>Full time course</td>\n",
       "      <td>Graduate</td>\n",
       "      <td>STEM</td>\n",
       "      <td>5</td>\n",
       "      <td>NaN</td>\n",
       "      <td>NaN</td>\n",
       "      <td>never</td>\n",
       "      <td>83</td>\n",
       "      <td>0.0</td>\n",
       "    </tr>\n",
       "    <tr>\n",
       "      <th>3</th>\n",
       "      <td>33241</td>\n",
       "      <td>city_115</td>\n",
       "      <td>0.789</td>\n",
       "      <td>NaN</td>\n",
       "      <td>No relevent experience</td>\n",
       "      <td>NaN</td>\n",
       "      <td>Graduate</td>\n",
       "      <td>Business Degree</td>\n",
       "      <td>&lt;1</td>\n",
       "      <td>NaN</td>\n",
       "      <td>Pvt Ltd</td>\n",
       "      <td>never</td>\n",
       "      <td>52</td>\n",
       "      <td>1.0</td>\n",
       "    </tr>\n",
       "    <tr>\n",
       "      <th>4</th>\n",
       "      <td>666</td>\n",
       "      <td>city_162</td>\n",
       "      <td>0.767</td>\n",
       "      <td>Male</td>\n",
       "      <td>Has relevent experience</td>\n",
       "      <td>no_enrollment</td>\n",
       "      <td>Masters</td>\n",
       "      <td>STEM</td>\n",
       "      <td>&gt;20</td>\n",
       "      <td>50-99</td>\n",
       "      <td>Funded Startup</td>\n",
       "      <td>4</td>\n",
       "      <td>8</td>\n",
       "      <td>0.0</td>\n",
       "    </tr>\n",
       "    <tr>\n",
       "      <th>...</th>\n",
       "      <td>...</td>\n",
       "      <td>...</td>\n",
       "      <td>...</td>\n",
       "      <td>...</td>\n",
       "      <td>...</td>\n",
       "      <td>...</td>\n",
       "      <td>...</td>\n",
       "      <td>...</td>\n",
       "      <td>...</td>\n",
       "      <td>...</td>\n",
       "      <td>...</td>\n",
       "      <td>...</td>\n",
       "      <td>...</td>\n",
       "      <td>...</td>\n",
       "    </tr>\n",
       "    <tr>\n",
       "      <th>19153</th>\n",
       "      <td>7386</td>\n",
       "      <td>city_173</td>\n",
       "      <td>0.878</td>\n",
       "      <td>Male</td>\n",
       "      <td>No relevent experience</td>\n",
       "      <td>no_enrollment</td>\n",
       "      <td>Graduate</td>\n",
       "      <td>Humanities</td>\n",
       "      <td>14</td>\n",
       "      <td>NaN</td>\n",
       "      <td>NaN</td>\n",
       "      <td>1</td>\n",
       "      <td>42</td>\n",
       "      <td>1.0</td>\n",
       "    </tr>\n",
       "    <tr>\n",
       "      <th>19154</th>\n",
       "      <td>31398</td>\n",
       "      <td>city_103</td>\n",
       "      <td>0.920</td>\n",
       "      <td>Male</td>\n",
       "      <td>Has relevent experience</td>\n",
       "      <td>no_enrollment</td>\n",
       "      <td>Graduate</td>\n",
       "      <td>STEM</td>\n",
       "      <td>14</td>\n",
       "      <td>NaN</td>\n",
       "      <td>NaN</td>\n",
       "      <td>4</td>\n",
       "      <td>52</td>\n",
       "      <td>1.0</td>\n",
       "    </tr>\n",
       "    <tr>\n",
       "      <th>19155</th>\n",
       "      <td>24576</td>\n",
       "      <td>city_103</td>\n",
       "      <td>0.920</td>\n",
       "      <td>Male</td>\n",
       "      <td>Has relevent experience</td>\n",
       "      <td>no_enrollment</td>\n",
       "      <td>Graduate</td>\n",
       "      <td>STEM</td>\n",
       "      <td>&gt;20</td>\n",
       "      <td>50-99</td>\n",
       "      <td>Pvt Ltd</td>\n",
       "      <td>4</td>\n",
       "      <td>44</td>\n",
       "      <td>0.0</td>\n",
       "    </tr>\n",
       "    <tr>\n",
       "      <th>19156</th>\n",
       "      <td>5756</td>\n",
       "      <td>city_65</td>\n",
       "      <td>0.802</td>\n",
       "      <td>Male</td>\n",
       "      <td>Has relevent experience</td>\n",
       "      <td>no_enrollment</td>\n",
       "      <td>High School</td>\n",
       "      <td>NaN</td>\n",
       "      <td>&lt;1</td>\n",
       "      <td>500-999</td>\n",
       "      <td>Pvt Ltd</td>\n",
       "      <td>2</td>\n",
       "      <td>97</td>\n",
       "      <td>0.0</td>\n",
       "    </tr>\n",
       "    <tr>\n",
       "      <th>19157</th>\n",
       "      <td>23834</td>\n",
       "      <td>city_67</td>\n",
       "      <td>0.855</td>\n",
       "      <td>NaN</td>\n",
       "      <td>No relevent experience</td>\n",
       "      <td>no_enrollment</td>\n",
       "      <td>Primary School</td>\n",
       "      <td>NaN</td>\n",
       "      <td>2</td>\n",
       "      <td>NaN</td>\n",
       "      <td>NaN</td>\n",
       "      <td>1</td>\n",
       "      <td>127</td>\n",
       "      <td>0.0</td>\n",
       "    </tr>\n",
       "  </tbody>\n",
       "</table>\n",
       "<p>19158 rows × 14 columns</p>\n",
       "</div>"
      ],
      "text/plain": [
       "       enrollee_id      city  city_development_index gender  \\\n",
       "0             8949  city_103                   0.920   Male   \n",
       "1            29725   city_40                   0.776   Male   \n",
       "2            11561   city_21                   0.624    NaN   \n",
       "3            33241  city_115                   0.789    NaN   \n",
       "4              666  city_162                   0.767   Male   \n",
       "...            ...       ...                     ...    ...   \n",
       "19153         7386  city_173                   0.878   Male   \n",
       "19154        31398  city_103                   0.920   Male   \n",
       "19155        24576  city_103                   0.920   Male   \n",
       "19156         5756   city_65                   0.802   Male   \n",
       "19157        23834   city_67                   0.855    NaN   \n",
       "\n",
       "           relevent_experience enrolled_university education_level  \\\n",
       "0      Has relevent experience       no_enrollment        Graduate   \n",
       "1       No relevent experience       no_enrollment        Graduate   \n",
       "2       No relevent experience    Full time course        Graduate   \n",
       "3       No relevent experience                 NaN        Graduate   \n",
       "4      Has relevent experience       no_enrollment         Masters   \n",
       "...                        ...                 ...             ...   \n",
       "19153   No relevent experience       no_enrollment        Graduate   \n",
       "19154  Has relevent experience       no_enrollment        Graduate   \n",
       "19155  Has relevent experience       no_enrollment        Graduate   \n",
       "19156  Has relevent experience       no_enrollment     High School   \n",
       "19157   No relevent experience       no_enrollment  Primary School   \n",
       "\n",
       "      major_discipline experience company_size    company_type last_new_job  \\\n",
       "0                 STEM        >20          NaN             NaN            1   \n",
       "1                 STEM         15        50-99         Pvt Ltd           >4   \n",
       "2                 STEM          5          NaN             NaN        never   \n",
       "3      Business Degree         <1          NaN         Pvt Ltd        never   \n",
       "4                 STEM        >20        50-99  Funded Startup            4   \n",
       "...                ...        ...          ...             ...          ...   \n",
       "19153       Humanities         14          NaN             NaN            1   \n",
       "19154             STEM         14          NaN             NaN            4   \n",
       "19155             STEM        >20        50-99         Pvt Ltd            4   \n",
       "19156              NaN         <1      500-999         Pvt Ltd            2   \n",
       "19157              NaN          2          NaN             NaN            1   \n",
       "\n",
       "       training_hours  target  \n",
       "0                  36     1.0  \n",
       "1                  47     0.0  \n",
       "2                  83     0.0  \n",
       "3                  52     1.0  \n",
       "4                   8     0.0  \n",
       "...               ...     ...  \n",
       "19153              42     1.0  \n",
       "19154              52     1.0  \n",
       "19155              44     0.0  \n",
       "19156              97     0.0  \n",
       "19157             127     0.0  \n",
       "\n",
       "[19158 rows x 14 columns]"
      ]
     },
     "execution_count": 3,
     "metadata": {},
     "output_type": "execute_result"
    }
   ],
   "source": [
    "df"
   ]
  },
  {
   "cell_type": "markdown",
   "id": "0b61d998-98c9-4ed7-a936-0ec0ecd070d9",
   "metadata": {},
   "source": [
    "### opening csv file from url"
   ]
  },
  {
   "cell_type": "code",
   "execution_count": 8,
   "id": "dbb0e68b-26cb-4703-a859-a93d2fd98060",
   "metadata": {},
   "outputs": [
    {
     "data": {
      "text/html": [
       "<div>\n",
       "<style scoped>\n",
       "    .dataframe tbody tr th:only-of-type {\n",
       "        vertical-align: middle;\n",
       "    }\n",
       "\n",
       "    .dataframe tbody tr th {\n",
       "        vertical-align: top;\n",
       "    }\n",
       "\n",
       "    .dataframe thead th {\n",
       "        text-align: right;\n",
       "    }\n",
       "</style>\n",
       "<table border=\"1\" class=\"dataframe\">\n",
       "  <thead>\n",
       "    <tr style=\"text-align: right;\">\n",
       "      <th></th>\n",
       "      <th>404: Not Found</th>\n",
       "    </tr>\n",
       "  </thead>\n",
       "  <tbody>\n",
       "  </tbody>\n",
       "</table>\n",
       "</div>"
      ],
      "text/plain": [
       "Empty DataFrame\n",
       "Columns: [404: Not Found]\n",
       "Index: []"
      ]
     },
     "execution_count": 8,
     "metadata": {},
     "output_type": "execute_result"
    }
   ],
   "source": [
    "import requests\n",
    "from io import StringIO\n",
    "\n",
    "url = \"https://raw.githubusercontent.com/cs109/2014/master/countries.csv\"\n",
    "headers = {\"User-Agent\" : \"Mozilla/5.0 (Macintosh; Intel Mac OS X 10.14; rv:66.0) Gecko/20100101 Firefox/66.0\"}\n",
    "req = requests.get(url, headers=headers)\n",
    "data = StringIO(req.text)\n",
    "\n",
    "pd.read_csv(data)"
   ]
  },
  {
   "cell_type": "markdown",
   "id": "1367890c-451a-4c63-a0d3-1f1edcfec0b5",
   "metadata": {},
   "source": [
    "### Sep parameter to read tsv files\n"
   ]
  },
  {
   "cell_type": "code",
   "execution_count": null,
   "id": "9f6dde2e-c9f5-41ed-8d63-beb4afc6aefc",
   "metadata": {},
   "outputs": [],
   "source": [
    "pd.read_csv(\"link to be pasted here\", sep='\\t')"
   ]
  },
  {
   "cell_type": "code",
   "execution_count": null,
   "id": "2dd83cfe-624d-4535-bbdc-cac773d9e162",
   "metadata": {},
   "outputs": [],
   "source": [
    "# if in the above the column names are missing then write the below code\n",
    "pd.read_csv(\"link to be pasted here\", sep='\\t', names=['sno','year'...etc])"
   ]
  },
  {
   "cell_type": "markdown",
   "id": "f8fd2dc2-2276-4906-9b33-5cbea3decb52",
   "metadata": {},
   "source": [
    "### index_col parameter to set a col as index"
   ]
  },
  {
   "cell_type": "code",
   "execution_count": null,
   "id": "e465d3bb-51f7-46d5-a7fd-4a1ba9ccb1ce",
   "metadata": {},
   "outputs": [],
   "source": [
    "pd.read_csv('aug_train.csv', index_col='enrollee_id')"
   ]
  },
  {
   "cell_type": "markdown",
   "id": "97ad45fe-e5ff-4e67-87cc-580ed2a7a89a",
   "metadata": {},
   "source": [
    "### header parameter"
   ]
  },
  {
   "cell_type": "code",
   "execution_count": null,
   "id": "7bdebd7d-f11b-439f-8648-f7fbd0f6ddcf",
   "metadata": {},
   "outputs": [],
   "source": [
    "# to make the 1st row as the column name\n",
    "pd.read_csv('', header=1)"
   ]
  },
  {
   "cell_type": "markdown",
   "id": "ae1db7b1-6e5e-4f70-bd41-975c9716665e",
   "metadata": {},
   "source": [
    "### usecols parameter"
   ]
  },
  {
   "cell_type": "code",
   "execution_count": null,
   "id": "78df86bc-05ca-4cb6-b7ef-0c7da27729ed",
   "metadata": {},
   "outputs": [],
   "source": [
    "# while importing dataset mention the col names you want to extract\n",
    "pd.read_csv('', usecols=['column name(s)...'])"
   ]
  },
  {
   "cell_type": "markdown",
   "id": "294db2a4-9799-4ae7-b564-6f552dc0d791",
   "metadata": {},
   "source": [
    "### squeeze column"
   ]
  },
  {
   "cell_type": "code",
   "execution_count": null,
   "id": "aca90cbf-9120-4f28-a657-d3393862c14f",
   "metadata": {},
   "outputs": [],
   "source": [
    "# when only 1 column is required : converts to series\n",
    "pd.read_csv('', usercols=[], squeeze=True)"
   ]
  },
  {
   "cell_type": "markdown",
   "id": "8123a42b-8299-4180-95be-058c729ed2f3",
   "metadata": {},
   "source": [
    "### skiprows/nrows parameter"
   ]
  },
  {
   "cell_type": "code",
   "execution_count": null,
   "id": "b34c038d-cf76-4338-b177-60524211269b",
   "metadata": {},
   "outputs": [],
   "source": [
    "# to remove / skip particular rows can be done using a function also\n",
    "pd.read_csv('',skiprows=[0,4])           # skip row number 1 and 5\n",
    "pd.read_csv('',nrows=100)        # now only 100 rows will be there from the dataset"
   ]
  },
  {
   "cell_type": "markdown",
   "id": "c068e644-b367-47be-a68c-6b2ac90dd619",
   "metadata": {},
   "source": [
    "### Encoding parameter"
   ]
  },
  {
   "cell_type": "code",
   "execution_count": null,
   "id": "8ada8cd1-3c7c-4f78-91f0-c9b73cfd96d6",
   "metadata": {},
   "outputs": [],
   "source": [
    "# whenever while loading we have UnicodeDecodeError use this parameter\n",
    "pd.read_csv('file_name',encoding='here the format/type of the file is needed to be given')"
   ]
  },
  {
   "cell_type": "markdown",
   "id": "d2e75f9e-4983-417a-85b5-a9717ac6cf2c",
   "metadata": {},
   "source": [
    "### skip bad lines"
   ]
  },
  {
   "cell_type": "code",
   "execution_count": null,
   "id": "a8dc02ee-8825-4bc9-a6cb-8dc4aa883c9a",
   "metadata": {},
   "outputs": [],
   "source": [
    "# when we have ParserError we remove /skip bad line : no of cols more than expected (8 given 9)\n",
    "pd.read_csv('file_name', sep=';',encoding='latin-1', error_bad_lines=False)\n",
    "# all the lines having the bad data will be removed from the whole data"
   ]
  },
  {
   "cell_type": "markdown",
   "id": "95caa91b-6adf-4458-b266-7197b7741e35",
   "metadata": {},
   "source": [
    "### dtypes parameter"
   ]
  },
  {
   "cell_type": "code",
   "execution_count": null,
   "id": "ced2011a-e45c-40cb-8f7f-ffb5f84b79fc",
   "metadata": {},
   "outputs": [],
   "source": [
    "pd.read_csv('file_name',dtype={'target':int})"
   ]
  },
  {
   "cell_type": "markdown",
   "id": "dd183be6-6b02-472f-838a-0676c594eabb",
   "metadata": {},
   "source": [
    "### handling dates"
   ]
  },
  {
   "cell_type": "code",
   "execution_count": null,
   "id": "29aa47ca-9815-41a5-8765-25819443fa9c",
   "metadata": {},
   "outputs": [],
   "source": [
    "# parse_dates makes the column as date time format \n",
    "pd.read_csv('file_name',parse_dates=['column names to convert to date format'])"
   ]
  },
  {
   "cell_type": "markdown",
   "id": "73a021e2-9230-40ef-bd3b-f832f0618ece",
   "metadata": {},
   "source": [
    "### convertors"
   ]
  },
  {
   "cell_type": "code",
   "execution_count": null,
   "id": "8b61f45e-436b-4e34-bedb-bccd6d7f1bc4",
   "metadata": {},
   "outputs": [],
   "source": [
    "# write a function for the conversion purpose\n",
    "pd.read_csv('file_name',converters={'team1':rename})"
   ]
  },
  {
   "cell_type": "markdown",
   "id": "6c33906b-b2eb-46e4-b332-415a62481674",
   "metadata": {},
   "source": [
    "### na_values parameter"
   ]
  },
  {
   "cell_type": "code",
   "execution_count": null,
   "id": "e0b027a0-4e1f-43b9-822f-0c7e50283f84",
   "metadata": {},
   "outputs": [],
   "source": [
    "# it treat (changes) the value in the list as nan/null values\n",
    "pd.read_csv('file_name',na_values=['-','na'])    # whenever in a dataset we have na or - replace with NaN"
   ]
  },
  {
   "cell_type": "markdown",
   "id": "8ee080aa-034c-4ce6-ad1b-b6bf4d1c7ae2",
   "metadata": {},
   "source": [
    "### loading a huge dataset in chunks"
   ]
  },
  {
   "cell_type": "code",
   "execution_count": null,
   "id": "81349aa5-22e8-40e1-8c0d-8f1dd6fe4193",
   "metadata": {},
   "outputs": [],
   "source": [
    "dfs = pd.read_csv('file_name',chunksize=5000)"
   ]
  },
  {
   "cell_type": "code",
   "execution_count": null,
   "id": "c4d3bdbe-d6b5-4415-bba4-245d1c4e7b4f",
   "metadata": {},
   "outputs": [],
   "source": [
    "for chunks in dfs:\n",
    "    print(chunks.shape)\n",
    "\n",
    "# making chunks reduces efforts to great extent"
   ]
  }
 ],
 "metadata": {
  "kernelspec": {
   "display_name": "Python 3 (ipykernel)",
   "language": "python",
   "name": "python3"
  },
  "language_info": {
   "codemirror_mode": {
    "name": "ipython",
    "version": 3
   },
   "file_extension": ".py",
   "mimetype": "text/x-python",
   "name": "python",
   "nbconvert_exporter": "python",
   "pygments_lexer": "ipython3",
   "version": "3.12.7"
  }
 },
 "nbformat": 4,
 "nbformat_minor": 5
}
