{
 "cells": [
  {
   "cell_type": "code",
   "execution_count": null,
   "id": "29c16543-e4b0-49af-b8eb-19b7339cbe87",
   "metadata": {},
   "outputs": [],
   "source": [
    "from sklearn.datasets import make_regression\n",
    "import numpy as np"
   ]
  },
  {
   "cell_type": "code",
   "execution_count": null,
   "id": "97a1f770-43bd-489e-b2c8-a6d9d266e576",
   "metadata": {},
   "outputs": [],
   "source": [
    "X,y = make_regression(n_samples=4, n_features=1, n_informative=1, n_targets=1,noise=80,random_state=13)"
   ]
  },
  {
   "cell_type": "code",
   "execution_count": null,
   "id": "8a1e627b-1123-4ea2-b456-95e874ce2e3b",
   "metadata": {},
   "outputs": [],
   "source": [
    "import matplotlib.pyplot as plt\n",
    "plt.scatter(X,y)"
   ]
  },
  {
   "cell_type": "code",
   "execution_count": null,
   "id": "b1011bfb-d271-426d-a2a0-d3e321b5287c",
   "metadata": {},
   "outputs": [],
   "source": [
    "# Lets apply OLS\n",
    "from sklearn.linear_model import LinearRegression"
   ]
  },
  {
   "cell_type": "code",
   "execution_count": null,
   "id": "6f44c16d-e644-4981-b49a-2f1b6da8d806",
   "metadata": {},
   "outputs": [],
   "source": [
    "reg = LinearRegression()\n",
    "reg.fit(X,y)"
   ]
  },
  {
   "cell_type": "code",
   "execution_count": null,
   "id": "cdadd5ba-df5a-488b-b032-9e1353efc1b6",
   "metadata": {},
   "outputs": [],
   "source": [
    "reg.coef_"
   ]
  },
  {
   "cell_type": "code",
   "execution_count": null,
   "id": "b493b0eb-b765-465c-af94-e0d86f180268",
   "metadata": {},
   "outputs": [],
   "source": [
    "reg.intercept_"
   ]
  },
  {
   "cell_type": "code",
   "execution_count": null,
   "id": "0200a53d-7f1e-4b58-b267-be4e6115b2ea",
   "metadata": {},
   "outputs": [],
   "source": [
    "plt.scatter(X,y)\n",
    "plt.plot(X,reg.predict(X),color='red')"
   ]
  },
  {
   "cell_type": "code",
   "execution_count": null,
   "id": "e23901f4-a293-493f-b054-9f56a003ec42",
   "metadata": {},
   "outputs": [],
   "source": [
    "# Lets apply Gradient Descent assuming slope is constant m = 78.35\n",
    "# and let's assume the starting value for intercept b = 0\n",
    "y_pred = ((78.35 * X) + 100).reshape(4"
   ]
  },
  {
   "cell_type": "code",
   "execution_count": null,
   "id": "18431122-b6b4-46f8-b7ed-59248294102f",
   "metadata": {},
   "outputs": [],
   "source": [
    "plt.scatter(X,y)\n",
    "plt.plot(X,reg.predict(X),color='red',label='OLS')\n",
    "plt.plot(X,y_pred,color='#00a65a',label='b = 0')\n",
    "plt.legend()\n",
    "plt.show()"
   ]
  },
  {
   "cell_type": "code",
   "execution_count": null,
   "id": "abc5f8ae-1940-4b1e-b5a4-f5e57adce747",
   "metadata": {},
   "outputs": [],
   "source": [
    "m = 78.35\n",
    "b = 100\n",
    "\n",
    "loss_slope = -2 * np.sum(y - m*X.ravel() - b)\n",
    "loss_slope"
   ]
  },
  {
   "cell_type": "code",
   "execution_count": null,
   "id": "0c985898-c3f5-4876-a654-f115848b9e8f",
   "metadata": {},
   "outputs": [],
   "source": [
    "# Lets take learning rate = 0.1\n",
    "lr = 0.1\n",
    "\n",
    "step_size = loss_slope*lr\n",
    "step_size"
   ]
  },
  {
   "cell_type": "code",
   "execution_count": null,
   "id": "c57f8197-dbeb-40f6-89b0-f27fedbdd020",
   "metadata": {},
   "outputs": [],
   "source": [
    "# Calculating the new intercept\n",
    "b = b - step_size\n",
    "b"
   ]
  },
  {
   "cell_type": "code",
   "execution_count": null,
   "id": "7c01ac9e-f020-4811-a1a8-71dfb427074b",
   "metadata": {},
   "outputs": [],
   "source": [
    "y_pred1 = ((78.35 * X) + b).reshape(4)\n",
    "\n",
    "plt.scatter(X,y)\n",
    "plt.plot(X,reg.predict(X),color='red',label='OLS')\n",
    "plt.plot(X,y_pred1,color='#00a65a',label='b = {}'.format(b))\n",
    "plt.plot(X,y_pred,color='#A3E4D7',label='b = 0')\n",
    "plt.legend()\n",
    "plt.show()"
   ]
  },
  {
   "cell_type": "code",
   "execution_count": null,
   "id": "15ec8bca-7eae-4be4-aede-f48faf8bc6c9",
   "metadata": {},
   "outputs": [],
   "source": [
    "# Iteration 2\n",
    "loss_slope = -2 * np.sum(y - m*X.ravel() - b)\n",
    "loss_slope"
   ]
  },
  {
   "cell_type": "code",
   "execution_count": null,
   "id": "0803792b-2166-411b-a8f3-796a6ef551c3",
   "metadata": {},
   "outputs": [],
   "source": [
    "step_size = loss_slope*lr\n",
    "step_size"
   ]
  },
  {
   "cell_type": "code",
   "execution_count": null,
   "id": "fedb5dc3-5ecb-47e5-ae28-1d11feefcdd2",
   "metadata": {},
   "outputs": [],
   "source": [
    "b = b - step_size\n",
    "b"
   ]
  },
  {
   "cell_type": "code",
   "execution_count": null,
   "id": "cf74c5a3-3cf7-45f7-ae44-5b703df2500b",
   "metadata": {},
   "outputs": [],
   "source": [
    "y_pred2 = ((78.35 * X) + b).reshape(4)\n",
    "\n",
    "plt.scatter(X,y)\n",
    "plt.plot(X,reg.predict(X),color='red',label='OLS')\n",
    "plt.plot(X,y_pred2,color='#00a65a',label='b = {}'.format(b))\n",
    "plt.plot(X,y_pred1,color='#A3E4D7',label='b = {}'.format(b))\n",
    "plt.plot(X,y_pred,color='#A3E4D7',label='b = 0')\n",
    "plt.legend()\n",
    "plt.show()"
   ]
  },
  {
   "cell_type": "code",
   "execution_count": null,
   "id": "364a0e3a-373c-43bb-936a-d193a9824b69",
   "metadata": {},
   "outputs": [],
   "source": [
    "# Iteration 3\n",
    "loss_slope = -2 * np.sum(y - m*X.ravel() - b)\n",
    "loss_slope"
   ]
  },
  {
   "cell_type": "code",
   "execution_count": null,
   "id": "8ec67820-a3be-47d6-be40-a4df8e14ab6f",
   "metadata": {},
   "outputs": [],
   "source": [
    "step_size = loss_slope*lr\n",
    "step_size"
   ]
  },
  {
   "cell_type": "code",
   "execution_count": null,
   "id": "32ecb341-0e8b-419e-9cae-bdbcf792254c",
   "metadata": {},
   "outputs": [],
   "source": [
    "b = b - step_size\n",
    "b"
   ]
  },
  {
   "cell_type": "code",
   "execution_count": null,
   "id": "f9acfb55-d0fb-4cb9-9279-fa61e52b7168",
   "metadata": {},
   "outputs": [],
   "source": [
    "y_pred3 = ((78.35 * X) + b).reshape(4)\n",
    "\n",
    "plt.figure(figsize=(15,15))\n",
    "plt.scatter(X,y)\n",
    "plt.plot(X,reg.predict(X),color='red',label='OLS')\n",
    "plt.plot(X,y_pred3,color='#00a65a',label='b = {}'.format(b))\n",
    "plt.plot(X,y_pred2,color='#A3E4D7',label='b = {}'.format(b))\n",
    "plt.plot(X,y_pred1,color='#A3E4D7',label='b = {}'.format(b))\n",
    "plt.plot(X,y_pred,color='#A3E4D7',label='b = 0')\n",
    "plt.legend()\n",
    "plt.show()"
   ]
  },
  {
   "cell_type": "code",
   "execution_count": null,
   "id": "ce4e9742-30aa-4d00-be5c-459321fae4b8",
   "metadata": {},
   "outputs": [],
   "source": [
    "b = -100\n",
    "m = 78.35\n",
    "lr = 0.01\n",
    "\n",
    "epochs = 100\n",
    "\n",
    "for i in range(epochs):\n",
    "  loss_slope = -2 * np.sum(y - m*X.ravel() - b)\n",
    "  b = b - (lr * loss_slope)\n",
    "\n",
    "  y_pred = m * X + b\n",
    "\n",
    "  plt.plot(X,y_pred)\n",
    "\n",
    "plt.scatter(X,y)"
   ]
  },
  {
   "cell_type": "code",
   "execution_count": null,
   "id": "f2c4379d-c961-4cfb-adc3-838fcef75f54",
   "metadata": {},
   "outputs": [],
   "source": []
  }
 ],
 "metadata": {
  "kernelspec": {
   "display_name": "Python 3 (ipykernel)",
   "language": "python",
   "name": "python3"
  },
  "language_info": {
   "codemirror_mode": {
    "name": "ipython",
    "version": 3
   },
   "file_extension": ".py",
   "mimetype": "text/x-python",
   "name": "python",
   "nbconvert_exporter": "python",
   "pygments_lexer": "ipython3",
   "version": "3.12.7"
  }
 },
 "nbformat": 4,
 "nbformat_minor": 5
}
